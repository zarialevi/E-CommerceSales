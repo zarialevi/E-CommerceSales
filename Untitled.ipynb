{
 "cells": [
  {
   "cell_type": "code",
   "execution_count": 1,
   "metadata": {},
   "outputs": [],
   "source": [
    "import pandas as pd"
   ]
  },
  {
   "cell_type": "code",
   "execution_count": 2,
   "metadata": {},
   "outputs": [],
   "source": [
    "df1 = pd.read_csv('data/products_final.csv')"
   ]
  },
  {
   "cell_type": "code",
   "execution_count": 3,
   "metadata": {},
   "outputs": [
    {
     "name": "stderr",
     "output_type": "stream",
     "text": [
      "//anaconda3/lib/python3.7/site-packages/IPython/core/interactiveshell.py:3051: DtypeWarning: Columns (9,23) have mixed types. Specify dtype option on import or set low_memory=False.\n",
      "  interactivity=interactivity, compiler=compiler, result=result)\n"
     ]
    }
   ],
   "source": [
    "df2 = pd.read_csv('data/products_full.csv')"
   ]
  },
  {
   "cell_type": "markdown",
   "metadata": {},
   "source": [
    "Feature Engineering\n",
    "\n",
    "As physical dates aren't of much use to us, particularly as we have data for only ** time period, we extracted the relevent information and used it to **"
   ]
  },
  {
   "cell_type": "code",
   "execution_count": 6,
   "metadata": {},
   "outputs": [],
   "source": [
    "df3 = pd.read_csv('data/source_data/olist_orders_dataset.csv')"
   ]
  },
  {
   "cell_type": "code",
   "execution_count": 83,
   "metadata": {},
   "outputs": [
    {
     "data": {
      "text/plain": [
       "Index(['order_id', 'customer_id', 'order_status', 'order_purchase_timestamp',\n",
       "       'order_approved_at', 'order_delivered_carrier_date',\n",
       "       'order_delivered_customer_date', 'order_estimated_delivery_date'],\n",
       "      dtype='object')"
      ]
     },
     "execution_count": 83,
     "metadata": {},
     "output_type": "execute_result"
    }
   ],
   "source": [
    "df3.columns"
   ]
  },
  {
   "cell_type": "code",
   "execution_count": 84,
   "metadata": {},
   "outputs": [
    {
     "data": {
      "text/plain": [
       "Index(['Unnamed: 0', 'order_status', 'payment_sequential', 'payment_type',\n",
       "       'payment_installments', 'review_score', 'customer_zip_code_prefix',\n",
       "       'customer_city', 'customer_state', 'price', 'freight_value',\n",
       "       'product_name_lenght', 'product_description_lenght',\n",
       "       'product_photos_qty', 'product_weight_g', 'product_length_cm',\n",
       "       'product_height_cm', 'product_width_cm', 'seller_zip_code_prefix',\n",
       "       'seller_city', 'seller_state'],\n",
       "      dtype='object')"
      ]
     },
     "execution_count": 84,
     "metadata": {},
     "output_type": "execute_result"
    }
   ],
   "source": [
    "df1.columns"
   ]
  },
  {
   "cell_type": "code",
   "execution_count": 85,
   "metadata": {},
   "outputs": [
    {
     "data": {
      "text/plain": [
       "Index(['Unnamed: 0', 'order_id', 'customer_id', 'order_status',\n",
       "       'order_purchase_timestamp', 'order_approved_at',\n",
       "       'order_delivered_carrier_date', 'order_delivered_customer_date',\n",
       "       'order_estimated_delivery_date', 'payment_sequential', 'payment_type',\n",
       "       'payment_installments', 'payment_value', 'review_id', 'review_score',\n",
       "       'review_comment_title', 'review_comment_message',\n",
       "       'review_creation_date', 'review_answer_timestamp', 'customer_unique_id',\n",
       "       'customer_zip_code_prefix', 'customer_city', 'customer_state',\n",
       "       'order_item_id', 'product_id', 'seller_id', 'shipping_limit_date',\n",
       "       'price', 'freight_value', 'product_category_name',\n",
       "       'product_name_lenght', 'product_description_lenght',\n",
       "       'product_photos_qty', 'product_weight_g', 'product_length_cm',\n",
       "       'product_height_cm', 'product_width_cm',\n",
       "       'product_category_name_english', 'seller_zip_code_prefix',\n",
       "       'seller_city', 'seller_state'],\n",
       "      dtype='object')"
      ]
     },
     "execution_count": 85,
     "metadata": {},
     "output_type": "execute_result"
    }
   ],
   "source": [
    "df2.columns"
   ]
  },
  {
   "cell_type": "code",
   "execution_count": 10,
   "metadata": {},
   "outputs": [],
   "source": [
    "df = df2.join(df3, rsuffix='_dupe')"
   ]
  },
  {
   "cell_type": "code",
   "execution_count": 92,
   "metadata": {},
   "outputs": [
    {
     "data": {
      "text/plain": [
       "Index(['Unnamed: 0', 'order_id', 'customer_id', 'order_status',\n",
       "       'order_purchase_timestamp', 'order_approved_at',\n",
       "       'order_delivered_carrier_date', 'order_delivered_customer_date',\n",
       "       'order_estimated_delivery_date', 'payment_sequential', 'payment_type',\n",
       "       'payment_installments', 'payment_value', 'review_id', 'review_score',\n",
       "       'review_comment_title', 'review_comment_message',\n",
       "       'review_creation_date', 'review_answer_timestamp', 'customer_unique_id',\n",
       "       'customer_zip_code_prefix', 'customer_city', 'customer_state',\n",
       "       'order_item_id', 'product_id', 'seller_id', 'shipping_limit_date',\n",
       "       'price', 'freight_value', 'product_category_name',\n",
       "       'product_name_lenght', 'product_description_lenght',\n",
       "       'product_photos_qty', 'product_weight_g', 'product_length_cm',\n",
       "       'product_height_cm', 'product_width_cm',\n",
       "       'product_category_name_english', 'seller_zip_code_prefix',\n",
       "       'seller_city', 'seller_state', 'order_id_dupe', 'customer_id_dupe',\n",
       "       'order_status_dupe', 'order_purchase_timestamp_dupe',\n",
       "       'order_approved_at_dupe', 'order_delivered_carrier_date_dupe',\n",
       "       'order_delivered_customer_date_dupe',\n",
       "       'order_estimated_delivery_date_dupe', 'approval_time',\n",
       "       'order_estimation_differencepproval_time', 'total_order_time',\n",
       "       'order_estimation_difference'],\n",
       "      dtype='object')"
      ]
     },
     "execution_count": 92,
     "metadata": {},
     "output_type": "execute_result"
    }
   ],
   "source": [
    "df.columns"
   ]
  },
  {
   "cell_type": "code",
   "execution_count": 20,
   "metadata": {},
   "outputs": [
    {
     "data": {
      "text/html": [
       "<div>\n",
       "<style scoped>\n",
       "    .dataframe tbody tr th:only-of-type {\n",
       "        vertical-align: middle;\n",
       "    }\n",
       "\n",
       "    .dataframe tbody tr th {\n",
       "        vertical-align: top;\n",
       "    }\n",
       "\n",
       "    .dataframe thead th {\n",
       "        text-align: right;\n",
       "    }\n",
       "</style>\n",
       "<table border=\"1\" class=\"dataframe\">\n",
       "  <thead>\n",
       "    <tr style=\"text-align: right;\">\n",
       "      <th></th>\n",
       "      <th>Unnamed: 0</th>\n",
       "      <th>order_id</th>\n",
       "      <th>customer_id</th>\n",
       "      <th>order_status</th>\n",
       "      <th>order_purchase_timestamp</th>\n",
       "      <th>order_approved_at</th>\n",
       "      <th>order_delivered_carrier_date</th>\n",
       "      <th>order_delivered_customer_date</th>\n",
       "      <th>order_estimated_delivery_date</th>\n",
       "      <th>payment_sequential</th>\n",
       "      <th>...</th>\n",
       "      <th>seller_city</th>\n",
       "      <th>seller_state</th>\n",
       "      <th>order_id_dupe</th>\n",
       "      <th>customer_id_dupe</th>\n",
       "      <th>order_status_dupe</th>\n",
       "      <th>order_purchase_timestamp_dupe</th>\n",
       "      <th>order_approved_at_dupe</th>\n",
       "      <th>order_delivered_carrier_date_dupe</th>\n",
       "      <th>order_delivered_customer_date_dupe</th>\n",
       "      <th>order_estimated_delivery_date_dupe</th>\n",
       "    </tr>\n",
       "  </thead>\n",
       "  <tbody>\n",
       "    <tr>\n",
       "      <th>0</th>\n",
       "      <td>0.0</td>\n",
       "      <td>e481f51cbdc54678b7cc49136f2d6af7</td>\n",
       "      <td>9ef432eb6251297304e76186b10a928d</td>\n",
       "      <td>delivered</td>\n",
       "      <td>2017-10-02 10:56:33</td>\n",
       "      <td>2017-10-02 11:07:15</td>\n",
       "      <td>2017-10-04 19:55:00</td>\n",
       "      <td>2017-10-10 21:25:13</td>\n",
       "      <td>2017-10-18 00:00:00</td>\n",
       "      <td>1</td>\n",
       "      <td>...</td>\n",
       "      <td>maua</td>\n",
       "      <td>SP</td>\n",
       "      <td>e481f51cbdc54678b7cc49136f2d6af7</td>\n",
       "      <td>9ef432eb6251297304e76186b10a928d</td>\n",
       "      <td>delivered</td>\n",
       "      <td>2017-10-02 10:56:33</td>\n",
       "      <td>2017-10-02 11:07:15</td>\n",
       "      <td>2017-10-04 19:55:00</td>\n",
       "      <td>2017-10-10 21:25:13</td>\n",
       "      <td>2017-10-18 00:00:00</td>\n",
       "    </tr>\n",
       "    <tr>\n",
       "      <th>1</th>\n",
       "      <td>1.0</td>\n",
       "      <td>e481f51cbdc54678b7cc49136f2d6af7</td>\n",
       "      <td>9ef432eb6251297304e76186b10a928d</td>\n",
       "      <td>delivered</td>\n",
       "      <td>2017-10-02 10:56:33</td>\n",
       "      <td>2017-10-02 11:07:15</td>\n",
       "      <td>2017-10-04 19:55:00</td>\n",
       "      <td>2017-10-10 21:25:13</td>\n",
       "      <td>2017-10-18 00:00:00</td>\n",
       "      <td>2</td>\n",
       "      <td>...</td>\n",
       "      <td>maua</td>\n",
       "      <td>SP</td>\n",
       "      <td>53cdb2fc8bc7dce0b6741e2150273451</td>\n",
       "      <td>b0830fb4747a6c6d20dea0b8c802d7ef</td>\n",
       "      <td>delivered</td>\n",
       "      <td>2018-07-24 20:41:37</td>\n",
       "      <td>2018-07-26 03:24:27</td>\n",
       "      <td>2018-07-26 14:31:00</td>\n",
       "      <td>2018-08-07 15:27:45</td>\n",
       "      <td>2018-08-13 00:00:00</td>\n",
       "    </tr>\n",
       "    <tr>\n",
       "      <th>2</th>\n",
       "      <td>2.0</td>\n",
       "      <td>e481f51cbdc54678b7cc49136f2d6af7</td>\n",
       "      <td>9ef432eb6251297304e76186b10a928d</td>\n",
       "      <td>delivered</td>\n",
       "      <td>2017-10-02 10:56:33</td>\n",
       "      <td>2017-10-02 11:07:15</td>\n",
       "      <td>2017-10-04 19:55:00</td>\n",
       "      <td>2017-10-10 21:25:13</td>\n",
       "      <td>2017-10-18 00:00:00</td>\n",
       "      <td>3</td>\n",
       "      <td>...</td>\n",
       "      <td>maua</td>\n",
       "      <td>SP</td>\n",
       "      <td>47770eb9100c2d0c44946d9cf07ec65d</td>\n",
       "      <td>41ce2a54c0b03bf3443c3d931a367089</td>\n",
       "      <td>delivered</td>\n",
       "      <td>2018-08-08 08:38:49</td>\n",
       "      <td>2018-08-08 08:55:23</td>\n",
       "      <td>2018-08-08 13:50:00</td>\n",
       "      <td>2018-08-17 18:06:29</td>\n",
       "      <td>2018-09-04 00:00:00</td>\n",
       "    </tr>\n",
       "    <tr>\n",
       "      <th>3</th>\n",
       "      <td>3.0</td>\n",
       "      <td>53cdb2fc8bc7dce0b6741e2150273451</td>\n",
       "      <td>b0830fb4747a6c6d20dea0b8c802d7ef</td>\n",
       "      <td>delivered</td>\n",
       "      <td>2018-07-24 20:41:37</td>\n",
       "      <td>2018-07-26 03:24:27</td>\n",
       "      <td>2018-07-26 14:31:00</td>\n",
       "      <td>2018-08-07 15:27:45</td>\n",
       "      <td>2018-08-13 00:00:00</td>\n",
       "      <td>1</td>\n",
       "      <td>...</td>\n",
       "      <td>belo horizonte</td>\n",
       "      <td>SP</td>\n",
       "      <td>949d5b44dbf5de918fe9c16f97b45f8a</td>\n",
       "      <td>f88197465ea7920adcdbec7375364d82</td>\n",
       "      <td>delivered</td>\n",
       "      <td>2017-11-18 19:28:06</td>\n",
       "      <td>2017-11-18 19:45:59</td>\n",
       "      <td>2017-11-22 13:39:59</td>\n",
       "      <td>2017-12-02 00:28:42</td>\n",
       "      <td>2017-12-15 00:00:00</td>\n",
       "    </tr>\n",
       "    <tr>\n",
       "      <th>4</th>\n",
       "      <td>4.0</td>\n",
       "      <td>47770eb9100c2d0c44946d9cf07ec65d</td>\n",
       "      <td>41ce2a54c0b03bf3443c3d931a367089</td>\n",
       "      <td>delivered</td>\n",
       "      <td>2018-08-08 08:38:49</td>\n",
       "      <td>2018-08-08 08:55:23</td>\n",
       "      <td>2018-08-08 13:50:00</td>\n",
       "      <td>2018-08-17 18:06:29</td>\n",
       "      <td>2018-09-04 00:00:00</td>\n",
       "      <td>1</td>\n",
       "      <td>...</td>\n",
       "      <td>guariba</td>\n",
       "      <td>SP</td>\n",
       "      <td>ad21c59c0840e6cb83a9ceb5573f8159</td>\n",
       "      <td>8ab97904e6daea8866dbdbc4fb7aad2c</td>\n",
       "      <td>delivered</td>\n",
       "      <td>2018-02-13 21:18:39</td>\n",
       "      <td>2018-02-13 22:20:29</td>\n",
       "      <td>2018-02-14 19:46:34</td>\n",
       "      <td>2018-02-16 18:17:02</td>\n",
       "      <td>2018-02-26 00:00:00</td>\n",
       "    </tr>\n",
       "  </tbody>\n",
       "</table>\n",
       "<p>5 rows × 49 columns</p>\n",
       "</div>"
      ],
      "text/plain": [
       "   Unnamed: 0                          order_id  \\\n",
       "0         0.0  e481f51cbdc54678b7cc49136f2d6af7   \n",
       "1         1.0  e481f51cbdc54678b7cc49136f2d6af7   \n",
       "2         2.0  e481f51cbdc54678b7cc49136f2d6af7   \n",
       "3         3.0  53cdb2fc8bc7dce0b6741e2150273451   \n",
       "4         4.0  47770eb9100c2d0c44946d9cf07ec65d   \n",
       "\n",
       "                        customer_id order_status order_purchase_timestamp  \\\n",
       "0  9ef432eb6251297304e76186b10a928d    delivered      2017-10-02 10:56:33   \n",
       "1  9ef432eb6251297304e76186b10a928d    delivered      2017-10-02 10:56:33   \n",
       "2  9ef432eb6251297304e76186b10a928d    delivered      2017-10-02 10:56:33   \n",
       "3  b0830fb4747a6c6d20dea0b8c802d7ef    delivered      2018-07-24 20:41:37   \n",
       "4  41ce2a54c0b03bf3443c3d931a367089    delivered      2018-08-08 08:38:49   \n",
       "\n",
       "     order_approved_at order_delivered_carrier_date  \\\n",
       "0  2017-10-02 11:07:15          2017-10-04 19:55:00   \n",
       "1  2017-10-02 11:07:15          2017-10-04 19:55:00   \n",
       "2  2017-10-02 11:07:15          2017-10-04 19:55:00   \n",
       "3  2018-07-26 03:24:27          2018-07-26 14:31:00   \n",
       "4  2018-08-08 08:55:23          2018-08-08 13:50:00   \n",
       "\n",
       "  order_delivered_customer_date order_estimated_delivery_date  \\\n",
       "0           2017-10-10 21:25:13           2017-10-18 00:00:00   \n",
       "1           2017-10-10 21:25:13           2017-10-18 00:00:00   \n",
       "2           2017-10-10 21:25:13           2017-10-18 00:00:00   \n",
       "3           2018-08-07 15:27:45           2018-08-13 00:00:00   \n",
       "4           2018-08-17 18:06:29           2018-09-04 00:00:00   \n",
       "\n",
       "  payment_sequential  ...     seller_city  seller_state  \\\n",
       "0                  1  ...            maua            SP   \n",
       "1                  2  ...            maua            SP   \n",
       "2                  3  ...            maua            SP   \n",
       "3                  1  ...  belo horizonte            SP   \n",
       "4                  1  ...         guariba            SP   \n",
       "\n",
       "                      order_id_dupe                  customer_id_dupe  \\\n",
       "0  e481f51cbdc54678b7cc49136f2d6af7  9ef432eb6251297304e76186b10a928d   \n",
       "1  53cdb2fc8bc7dce0b6741e2150273451  b0830fb4747a6c6d20dea0b8c802d7ef   \n",
       "2  47770eb9100c2d0c44946d9cf07ec65d  41ce2a54c0b03bf3443c3d931a367089   \n",
       "3  949d5b44dbf5de918fe9c16f97b45f8a  f88197465ea7920adcdbec7375364d82   \n",
       "4  ad21c59c0840e6cb83a9ceb5573f8159  8ab97904e6daea8866dbdbc4fb7aad2c   \n",
       "\n",
       "   order_status_dupe order_purchase_timestamp_dupe order_approved_at_dupe  \\\n",
       "0          delivered           2017-10-02 10:56:33    2017-10-02 11:07:15   \n",
       "1          delivered           2018-07-24 20:41:37    2018-07-26 03:24:27   \n",
       "2          delivered           2018-08-08 08:38:49    2018-08-08 08:55:23   \n",
       "3          delivered           2017-11-18 19:28:06    2017-11-18 19:45:59   \n",
       "4          delivered           2018-02-13 21:18:39    2018-02-13 22:20:29   \n",
       "\n",
       "  order_delivered_carrier_date_dupe order_delivered_customer_date_dupe  \\\n",
       "0               2017-10-04 19:55:00                2017-10-10 21:25:13   \n",
       "1               2018-07-26 14:31:00                2018-08-07 15:27:45   \n",
       "2               2018-08-08 13:50:00                2018-08-17 18:06:29   \n",
       "3               2017-11-22 13:39:59                2017-12-02 00:28:42   \n",
       "4               2018-02-14 19:46:34                2018-02-16 18:17:02   \n",
       "\n",
       "  order_estimated_delivery_date_dupe  \n",
       "0                2017-10-18 00:00:00  \n",
       "1                2018-08-13 00:00:00  \n",
       "2                2018-09-04 00:00:00  \n",
       "3                2017-12-15 00:00:00  \n",
       "4                2018-02-26 00:00:00  \n",
       "\n",
       "[5 rows x 49 columns]"
      ]
     },
     "execution_count": 20,
     "metadata": {},
     "output_type": "execute_result"
    }
   ],
   "source": [
    "df.head()"
   ]
  },
  {
   "cell_type": "code",
   "execution_count": 53,
   "metadata": {
    "collapsed": true,
    "jupyter": {
     "outputs_hidden": true
    }
   },
   "outputs": [
    {
     "name": "stdout",
     "output_type": "stream",
     "text": [
      "<class 'pandas.core.frame.DataFrame'>\n",
      "RangeIndex: 116584 entries, 0 to 116583\n",
      "Data columns (total 49 columns):\n",
      "Unnamed: 0                            116581 non-null float64\n",
      "order_id                              116584 non-null object\n",
      "customer_id                           116584 non-null object\n",
      "order_status                          116584 non-null object\n",
      "order_purchase_timestamp              116581 non-null datetime64[ns]\n",
      "order_approved_at                     116567 non-null datetime64[ns]\n",
      "order_delivered_carrier_date          115368 non-null datetime64[ns]\n",
      "order_delivered_customer_date         114066 non-null datetime64[ns]\n",
      "order_estimated_delivery_date         116581 non-null datetime64[ns]\n",
      "payment_sequential                    116584 non-null object\n",
      "payment_type                          116584 non-null object\n",
      "payment_installments                  116584 non-null float64\n",
      "payment_value                         116584 non-null float64\n",
      "review_id                             116584 non-null object\n",
      "review_score                          116584 non-null float64\n",
      "review_comment_title                  13999 non-null object\n",
      "review_comment_message                49881 non-null object\n",
      "review_creation_date                  116581 non-null object\n",
      "review_answer_timestamp               116581 non-null object\n",
      "customer_unique_id                    116581 non-null object\n",
      "customer_zip_code_prefix              116581 non-null float64\n",
      "customer_city                         116581 non-null object\n",
      "customer_state                        116581 non-null object\n",
      "order_item_id                         116581 non-null object\n",
      "product_id                            116581 non-null object\n",
      "seller_id                             116578 non-null object\n",
      "shipping_limit_date                   116578 non-null object\n",
      "price                                 116578 non-null float64\n",
      "freight_value                         116578 non-null float64\n",
      "product_category_name                 116578 non-null object\n",
      "product_name_lenght                   116578 non-null float64\n",
      "product_description_lenght            116578 non-null float64\n",
      "product_photos_qty                    116578 non-null float64\n",
      "product_weight_g                      116577 non-null float64\n",
      "product_length_cm                     116577 non-null float64\n",
      "product_height_cm                     116577 non-null float64\n",
      "product_width_cm                      116577 non-null float64\n",
      "product_category_name_english         116578 non-null object\n",
      "seller_zip_code_prefix                116578 non-null float64\n",
      "seller_city                           116578 non-null object\n",
      "seller_state                          116578 non-null object\n",
      "order_id_dupe                         99441 non-null object\n",
      "customer_id_dupe                      99441 non-null object\n",
      "order_status_dupe                     99441 non-null object\n",
      "order_purchase_timestamp_dupe         99441 non-null object\n",
      "order_approved_at_dupe                99281 non-null object\n",
      "order_delivered_carrier_date_dupe     97658 non-null object\n",
      "order_delivered_customer_date_dupe    96476 non-null object\n",
      "order_estimated_delivery_date_dupe    99441 non-null object\n",
      "dtypes: datetime64[ns](5), float64(15), object(29)\n",
      "memory usage: 43.6+ MB\n"
     ]
    }
   ],
   "source": [
    "df.info()"
   ]
  },
  {
   "cell_type": "code",
   "execution_count": 89,
   "metadata": {},
   "outputs": [],
   "source": [
    "cols = ['order_purchase_timestamp', 'order_approved_at',\n",
    "       'order_delivered_carrier_date', 'order_delivered_customer_date',\n",
    "       'order_estimated_delivery_date','shipping_limit_date']\n",
    "\n",
    "for col in cols:\n",
    "    df[col] = pd.to_datetime(df[col], infer_datetime_format=True, errors='coerce')"
   ]
  },
  {
   "cell_type": "code",
   "execution_count": 61,
   "metadata": {},
   "outputs": [],
   "source": [
    "approval_time = []\n",
    "\n",
    "for x, time in enumerate(df['order_approved_at']):\n",
    "    approval_time.append(time - df['order_purchase_timestamp'][x]"
   ]
  },
  {
   "cell_type": "code",
   "execution_count": 68,
   "metadata": {},
   "outputs": [],
   "source": [
    "total_order_time = []\n",
    "\n",
    "for x, time in enumerate(df['order_delivered_customer_date']):\n",
    "    total_order_time.append(time - df['order_purchase_timestamp'][x])"
   ]
  },
  {
   "cell_type": "code",
   "execution_count": 80,
   "metadata": {},
   "outputs": [],
   "source": [
    "order_estimation_difference = []\n",
    "\n",
    "for x, time in enumerate(df['order_delivered_customer_date']):\n",
    "    order_estimation_difference.append(time - df['order_estimated_delivery_date'][x])"
   ]
  },
  {
   "cell_type": "code",
   "execution_count": 90,
   "metadata": {},
   "outputs": [],
   "source": [
    "order_shipping_limit = []\n",
    "\n",
    "for x, time in enumerate(df['shipping_limit_date']):\n",
    "    order_shipping_limit.append(time - df['order_purchase_timestamp'][x])"
   ]
  },
  {
   "cell_type": "code",
   "execution_count": 82,
   "metadata": {},
   "outputs": [],
   "source": [
    "df['order_estimation_differencepproval_time'] = approval_time\n",
    "df['total_order_time'] = total_order_time\n",
    "df['order_estimation_difference'] = order_estimation_difference\n",
    "df['order_shipping_limit'] = order_shipping_limit"
   ]
  }
 ],
 "metadata": {
  "kernelspec": {
   "display_name": "Python 3",
   "language": "python",
   "name": "python3"
  },
  "language_info": {
   "codemirror_mode": {
    "name": "ipython",
    "version": 3
   },
   "file_extension": ".py",
   "mimetype": "text/x-python",
   "name": "python",
   "nbconvert_exporter": "python",
   "pygments_lexer": "ipython3",
   "version": "3.7.5"
  }
 },
 "nbformat": 4,
 "nbformat_minor": 4
}
